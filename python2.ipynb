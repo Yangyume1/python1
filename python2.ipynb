{
 "cells": [
  {
   "cell_type": "code",
   "execution_count": 1,
   "id": "cf4137ba",
   "metadata": {},
   "outputs": [
    {
     "name": "stdout",
     "output_type": "stream",
     "text": [
      "数値に入力ください1.23\n"
     ]
    }
   ],
   "source": [
    "number_a = float(input(\"数値に入力ください\"))"
   ]
  },
  {
   "cell_type": "code",
   "execution_count": 2,
   "id": "11442ed7",
   "metadata": {},
   "outputs": [],
   "source": [
    "number_b = number_a * 3.14"
   ]
  },
  {
   "cell_type": "code",
   "execution_count": 3,
   "id": "af2d8517",
   "metadata": {},
   "outputs": [
    {
     "name": "stdout",
     "output_type": "stream",
     "text": [
      "入力値1.23を3.14倍すると3.8622\n"
     ]
    }
   ],
   "source": [
    "print(\"入力値\"+str(number_a)+\"を3.14倍すると\"+str(number_b))"
   ]
  }
 ],
 "metadata": {
  "kernelspec": {
   "display_name": "Python 3 (ipykernel)",
   "language": "python",
   "name": "python3"
  },
  "language_info": {
   "codemirror_mode": {
    "name": "ipython",
    "version": 3
   },
   "file_extension": ".py",
   "mimetype": "text/x-python",
   "name": "python",
   "nbconvert_exporter": "python",
   "pygments_lexer": "ipython3",
   "version": "3.11.5"
  }
 },
 "nbformat": 4,
 "nbformat_minor": 5
}
