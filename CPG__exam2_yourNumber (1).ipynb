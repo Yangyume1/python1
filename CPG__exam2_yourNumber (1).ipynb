{
 "cells": [
  {
   "cell_type": "markdown",
   "metadata": {},
   "source": [
    "学籍番号と名前を以下のセルにコメントとして記入する"
   ]
  },
  {
   "cell_type": "code",
   "execution_count": 16,
   "metadata": {},
   "outputs": [],
   "source": [
    "# your number and nameM23W7590 楊楓"
   ]
  },
  {
   "cell_type": "markdown",
   "metadata": {},
   "source": [
    "## 小テスト　2-2\n",
    "\n",
    "a. 3次元座標上の点（x, y, z）の原型となるPoint3Dクラスを定義する\n",
    "\n",
    "b. Point3Dクラスに，インスタンス変数であるｘ座標とｙ座標とz座標を初期化するコンストラクタを定義しなさい\n",
    "\n",
    "c. またPoint3Dクラスに，点（x, y, z）の原点からの距離を返すdistanceメソッドを定義しなさい\n",
    "\n",
    "d. Point3Dクラスから3次元座標上の点（0, 0, 0），（5, 0, 0），（5, 5, 0），（5, 5, 5）のオブジェクトp0，p1，p2，p3を作成しなさい\n",
    "\n",
    "e. そして，4つのオブジェクトの distanceメソッドを呼び，各点の原点からの距離を表示しなさい"
   ]
  },
  {
   "cell_type": "code",
   "execution_count": 10,
   "metadata": {},
   "outputs": [
    {
     "name": "stdout",
     "output_type": "stream",
     "text": [
      "0.0\n",
      "5.0\n",
      "7.0710678118654755\n",
      "8.660254037844387\n"
     ]
    }
   ],
   "source": [
    "# ここにプログラムを記述\n",
    "import math\n",
    "class Point3D():\n",
    "    def __init__(self,x,y,z):\n",
    "        self.x =x\n",
    "        self.y =y\n",
    "        self.z =z\n",
    "    def distance(self):\n",
    "        distance = math.sqrt((self.x **2) +(self. y **2) +(self.z**2))\n",
    "        return distance\n",
    "p0 =Point3D(0,0,0)\n",
    "p1 =Point3D(5,0,0)\n",
    "p2 =Point3D(5,5,0)\n",
    "p3 =Point3D(5,5,5)\n",
    "print(p0.distance())\n",
    "print(p1.distance())\n",
    "print(p2.distance())\n",
    "print(p3.distance())\n",
    "\n",
    "\n",
    "\n",
    "\n",
    "\n",
    "\n",
    "\n",
    "\n",
    "\n"
   ]
  },
  {
   "cell_type": "markdown",
   "metadata": {},
   "source": [
    "## 小テスト　2-3\n",
    "\n",
    "素数を判定する関数is_primeを作った。\n",
    "なお、素数とは，1より大きい自然数で，約数が1と自分自身のみである数です"
   ]
  },
  {
   "cell_type": "code",
   "execution_count": 18,
   "metadata": {},
   "outputs": [],
   "source": [
    "def is_prime(number) :\n",
    "    \"\"\"入力値が素数ならTrueを、\n",
    "    素数でなければFalseを返す\"\"\"\n",
    "    if number <= 1:   \n",
    "        return False\n",
    "    import math\n",
    "    for i in range(2, int(math.sqrt(number))+1):\n",
    "        if number % i == 0:     \n",
    "            return False\n",
    "    return True\n"
   ]
  },
  {
   "cell_type": "markdown",
   "metadata": {},
   "source": [
    "## 小テスト　2-3 a\n",
    "\n",
    "このis_prime関数のdocstringを表示するコードを書きなさい"
   ]
  },
  {
   "cell_type": "code",
   "execution_count": 19,
   "metadata": {},
   "outputs": [],
   "source": [
    "# ここにコードを記述\n",
    "'''\n",
    "is_prime関数とは，1より大きい自然数で，約数が1と自分自身のみである数です、つまり１より大きくて、number % i(とは2より大きい整数)==0は失敗しました。\n",
    "\n",
    "'''\n",
    "\n"
   ]
  },
  {
   "cell_type": "markdown",
   "metadata": {},
   "source": [
    "## 小テスト　2-3 b\n",
    "\n",
    "7は素数であることをis_prime関数を使って確認しなさい\n",
    "\n",
    "また、10は素数でないことをis_prime関数を使って確認しなさい"
   ]
  },
  {
   "cell_type": "code",
   "execution_count": 12,
   "metadata": {},
   "outputs": [
    {
     "name": "stdout",
     "output_type": "stream",
     "text": [
      "True\n",
      "False\n"
     ]
    }
   ],
   "source": [
    "# ここにコードを記述\n",
    "def is_prime(number) :\n",
    "    \"\"\"入力値が素数ならTrueを、\n",
    "    素数でなければFalseを返す\"\"\"\n",
    "    if number <= 1:   \n",
    "        return False\n",
    "    import math\n",
    "    for i in range(2, int(math.sqrt(number))+1):\n",
    "        if number % i == 0:     \n",
    "            return False\n",
    "    return True\n",
    "print(is_prime(7))\n",
    "print( is_prime(10))"
   ]
  },
  {
   "cell_type": "markdown",
   "metadata": {},
   "source": [
    "## 小テスト　2-3 c\n",
    "\n",
    "is_prime関数を使って，1から50までの素数を表示しなさい"
   ]
  },
  {
   "cell_type": "code",
   "execution_count": 16,
   "metadata": {},
   "outputs": [
    {
     "name": "stdout",
     "output_type": "stream",
     "text": [
      "2 素数\n",
      "3 素数\n",
      "5 素数\n",
      "7 素数\n",
      "11 素数\n",
      "13 素数\n",
      "17 素数\n",
      "19 素数\n",
      "23 素数\n",
      "29 素数\n",
      "31 素数\n",
      "37 素数\n",
      "41 素数\n",
      "43 素数\n",
      "47 素数\n"
     ]
    }
   ],
   "source": [
    "# ここにコードを記述\n",
    "def is_prime(number) :\n",
    "    \"\"\"入力値が素数ならTrueを、\n",
    "    素数でなければFalseを返す\"\"\"\n",
    "    if number <= 1:   \n",
    "        return False\n",
    "    import math\n",
    "    for i in range(2, int(math.sqrt(number))+1):\n",
    "        if number % i == 0:     \n",
    "            return False\n",
    "    return True\n",
    "for number in range(1, 51):\n",
    "    if is_prime(number):\n",
    "        print(f\"{number} 素数\")\n"
   ]
  },
  {
   "cell_type": "code",
   "execution_count": null,
   "metadata": {},
   "outputs": [],
   "source": []
  }
 ],
 "metadata": {
  "kernelspec": {
   "display_name": "Python 3 (ipykernel)",
   "language": "python",
   "name": "python3"
  },
  "language_info": {
   "codemirror_mode": {
    "name": "ipython",
    "version": 3
   },
   "file_extension": ".py",
   "mimetype": "text/x-python",
   "name": "python",
   "nbconvert_exporter": "python",
   "pygments_lexer": "ipython3",
   "version": "3.11.5"
  }
 },
 "nbformat": 4,
 "nbformat_minor": 4
}
